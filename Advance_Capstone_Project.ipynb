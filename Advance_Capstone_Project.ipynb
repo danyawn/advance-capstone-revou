{
  "cells": [
    {
      "cell_type": "markdown",
      "metadata": {
        "colab_type": "text",
        "id": "view-in-github"
      },
      "source": [
        "<a href=\"https://colab.research.google.com/github/danyawn/advance-capstone-revou/blob/main/Advance_Capstone_Project.ipynb\" target=\"_parent\"><img src=\"https://colab.research.google.com/assets/colab-badge.svg\" alt=\"Open In Colab\"/></a>"
      ]
    },
    {
      "cell_type": "markdown",
      "metadata": {
        "id": "uRxtlhQoMH7P"
      },
      "source": [
        "# Load Dataset"
      ]
    },
    {
      "cell_type": "markdown",
      "metadata": {
        "id": "7QEZqTRPNdRC"
      },
      "source": [
        "Download terlebih dahuu dataset di sini [Kaggle](https://www.kaggle.com/datasets/chanoncharuchinda/korean-drama-2015-23-actor-and-reviewmydramalist?select=reviews.csv), lalu masukan ke dalam google collab"
      ]
    },
    {
      "cell_type": "code",
      "execution_count": 8,
      "metadata": {
        "colab": {
          "base_uri": "https://localhost:8080/"
        },
        "id": "hGsgDOiAdoQq",
        "outputId": "6172102f-4b54-4db9-aa9b-a2701d940397"
      },
      "outputs": [
        {
          "name": "stdout",
          "output_type": "stream",
          "text": [
            "Error saat mengekstrak file: [Errno 30] Read-only file system: '/extracted'\n",
            "Pastikan folder tujuan memiliki permission write yang sesuai\n"
          ]
        }
      ],
      "source": [
        "import zipfile\n",
        "import os\n",
        "\n",
        "# Lokasi file zip di Google Colab\n",
        "zip_file_path = '/zipped'\n",
        "# Folder untuk mengekstrak file zip\n",
        "extract_folder = '/extracted'\n",
        "\n",
        "# Fungsi untuk mengekstrak file dari zip dan mendownload file CSV\n",
        "def extract_and_download_csv(zip_file_path, extract_folder):\n",
        "    # Buat folder untuk mengekstrak file zip jika belum ada\n",
        "    if not os.path.exists(extract_folder):\n",
        "        os.makedirs(extract_folder)\n",
        "\n",
        "    # Buka file zip\n",
        "    with zipfile.ZipFile(zip_file_path, 'r') as zip_ref:\n",
        "        # Loop semua file di dalam zip\n",
        "        for file_name in zip_ref.namelist():\n",
        "            # Cek jika file adalah file CSV\n",
        "            if file_name.lower().endswith('.csv'):\n",
        "                # Ekstrak file CSV ke dalam folder extract_folder\n",
        "                zip_ref.extract(file_name, extract_folder)\n",
        "                print(f\"Extracted: {file_name}\")\n",
        "# Panggil fungsi untuk mengekstrak file CSV\n",
        "try:\n",
        "    extract_and_download_csv(zip_file_path, extract_folder)\n",
        "    \n",
        "    # Hapus file zip setelah selesai jika ekstraksi berhasil\n",
        "    if os.path.exists(zip_file_path):\n",
        "        os.remove(zip_file_path)\n",
        "except OSError as e:\n",
        "    print(f\"Error saat mengekstrak file: {str(e)}\")\n",
        "    print(\"Pastikan folder tujuan memiliki permission write yang sesuai\")\n",
        "except Exception as e:\n",
        "    print(f\"Terjadi kesalahan: {str(e)}\")"
      ]
    },
    {
      "cell_type": "code",
      "execution_count": 9,
      "metadata": {
        "id": "Aeq4bCOr8ufG"
      },
      "outputs": [
        {
          "name": "stdout",
          "output_type": "stream",
          "text": [
            "Not running in Google Colab environment. Skipping drive mount.\n"
          ]
        }
      ],
      "source": [
        "# Cek apakah kita berada di Google Colab environment\n",
        "try:\n",
        "    from google.colab import drive\n",
        "    drive.mount('/content/drive')\n",
        "    print(\"Successfully mounted Google Drive\")\n",
        "except ModuleNotFoundError:\n",
        "    print(\"Not running in Google Colab environment. Skipping drive mount.\")\n",
        "except Exception as e:\n",
        "    print(f\"Error mounting drive: {str(e)}\")"
      ]
    },
    {
      "cell_type": "code",
      "execution_count": 10,
      "metadata": {
        "id": "k5XQ_T2KT2fx"
      },
      "outputs": [
        {
          "ename": "FileNotFoundError",
          "evalue": "[Errno 2] No such file or directory: '/content/extracted_files/reviews.csv'",
          "output_type": "error",
          "traceback": [
            "\u001b[0;31m---------------------------------------------------------------------------\u001b[0m",
            "\u001b[0;31mFileNotFoundError\u001b[0m                         Traceback (most recent call last)",
            "Cell \u001b[0;32mIn[10], line 4\u001b[0m\n\u001b[1;32m      1\u001b[0m \u001b[38;5;28;01mimport\u001b[39;00m \u001b[38;5;21;01mpandas\u001b[39;00m \u001b[38;5;28;01mas\u001b[39;00m \u001b[38;5;21;01mpd\u001b[39;00m\n\u001b[1;32m      3\u001b[0m \u001b[38;5;66;03m# Load the CSV file\u001b[39;00m\n\u001b[0;32m----> 4\u001b[0m df1 \u001b[38;5;241m=\u001b[39m \u001b[43mpd\u001b[49m\u001b[38;5;241;43m.\u001b[39;49m\u001b[43mread_csv\u001b[49m\u001b[43m(\u001b[49m\u001b[38;5;124;43m'\u001b[39;49m\u001b[38;5;124;43m/content/extracted_files/reviews.csv\u001b[39;49m\u001b[38;5;124;43m'\u001b[39;49m\u001b[43m)\u001b[49m\n\u001b[1;32m      5\u001b[0m df2 \u001b[38;5;241m=\u001b[39m pd\u001b[38;5;241m.\u001b[39mread_csv(\u001b[38;5;124m'\u001b[39m\u001b[38;5;124m/content/extracted_files/korean_drama.csv\u001b[39m\u001b[38;5;124m'\u001b[39m)\n\u001b[1;32m      6\u001b[0m df3 \u001b[38;5;241m=\u001b[39m pd\u001b[38;5;241m.\u001b[39mread_csv(\u001b[38;5;124m'\u001b[39m\u001b[38;5;124m/content/extracted_files/recommendations.csv\u001b[39m\u001b[38;5;124m'\u001b[39m)\n",
            "File \u001b[0;32m~/.pyenv/versions/3.10.15/lib/python3.10/site-packages/pandas/io/parsers/readers.py:1026\u001b[0m, in \u001b[0;36mread_csv\u001b[0;34m(filepath_or_buffer, sep, delimiter, header, names, index_col, usecols, dtype, engine, converters, true_values, false_values, skipinitialspace, skiprows, skipfooter, nrows, na_values, keep_default_na, na_filter, verbose, skip_blank_lines, parse_dates, infer_datetime_format, keep_date_col, date_parser, date_format, dayfirst, cache_dates, iterator, chunksize, compression, thousands, decimal, lineterminator, quotechar, quoting, doublequote, escapechar, comment, encoding, encoding_errors, dialect, on_bad_lines, delim_whitespace, low_memory, memory_map, float_precision, storage_options, dtype_backend)\u001b[0m\n\u001b[1;32m   1013\u001b[0m kwds_defaults \u001b[38;5;241m=\u001b[39m _refine_defaults_read(\n\u001b[1;32m   1014\u001b[0m     dialect,\n\u001b[1;32m   1015\u001b[0m     delimiter,\n\u001b[0;32m   (...)\u001b[0m\n\u001b[1;32m   1022\u001b[0m     dtype_backend\u001b[38;5;241m=\u001b[39mdtype_backend,\n\u001b[1;32m   1023\u001b[0m )\n\u001b[1;32m   1024\u001b[0m kwds\u001b[38;5;241m.\u001b[39mupdate(kwds_defaults)\n\u001b[0;32m-> 1026\u001b[0m \u001b[38;5;28;01mreturn\u001b[39;00m \u001b[43m_read\u001b[49m\u001b[43m(\u001b[49m\u001b[43mfilepath_or_buffer\u001b[49m\u001b[43m,\u001b[49m\u001b[43m \u001b[49m\u001b[43mkwds\u001b[49m\u001b[43m)\u001b[49m\n",
            "File \u001b[0;32m~/.pyenv/versions/3.10.15/lib/python3.10/site-packages/pandas/io/parsers/readers.py:620\u001b[0m, in \u001b[0;36m_read\u001b[0;34m(filepath_or_buffer, kwds)\u001b[0m\n\u001b[1;32m    617\u001b[0m _validate_names(kwds\u001b[38;5;241m.\u001b[39mget(\u001b[38;5;124m\"\u001b[39m\u001b[38;5;124mnames\u001b[39m\u001b[38;5;124m\"\u001b[39m, \u001b[38;5;28;01mNone\u001b[39;00m))\n\u001b[1;32m    619\u001b[0m \u001b[38;5;66;03m# Create the parser.\u001b[39;00m\n\u001b[0;32m--> 620\u001b[0m parser \u001b[38;5;241m=\u001b[39m \u001b[43mTextFileReader\u001b[49m\u001b[43m(\u001b[49m\u001b[43mfilepath_or_buffer\u001b[49m\u001b[43m,\u001b[49m\u001b[43m \u001b[49m\u001b[38;5;241;43m*\u001b[39;49m\u001b[38;5;241;43m*\u001b[39;49m\u001b[43mkwds\u001b[49m\u001b[43m)\u001b[49m\n\u001b[1;32m    622\u001b[0m \u001b[38;5;28;01mif\u001b[39;00m chunksize \u001b[38;5;129;01mor\u001b[39;00m iterator:\n\u001b[1;32m    623\u001b[0m     \u001b[38;5;28;01mreturn\u001b[39;00m parser\n",
            "File \u001b[0;32m~/.pyenv/versions/3.10.15/lib/python3.10/site-packages/pandas/io/parsers/readers.py:1620\u001b[0m, in \u001b[0;36mTextFileReader.__init__\u001b[0;34m(self, f, engine, **kwds)\u001b[0m\n\u001b[1;32m   1617\u001b[0m     \u001b[38;5;28mself\u001b[39m\u001b[38;5;241m.\u001b[39moptions[\u001b[38;5;124m\"\u001b[39m\u001b[38;5;124mhas_index_names\u001b[39m\u001b[38;5;124m\"\u001b[39m] \u001b[38;5;241m=\u001b[39m kwds[\u001b[38;5;124m\"\u001b[39m\u001b[38;5;124mhas_index_names\u001b[39m\u001b[38;5;124m\"\u001b[39m]\n\u001b[1;32m   1619\u001b[0m \u001b[38;5;28mself\u001b[39m\u001b[38;5;241m.\u001b[39mhandles: IOHandles \u001b[38;5;241m|\u001b[39m \u001b[38;5;28;01mNone\u001b[39;00m \u001b[38;5;241m=\u001b[39m \u001b[38;5;28;01mNone\u001b[39;00m\n\u001b[0;32m-> 1620\u001b[0m \u001b[38;5;28mself\u001b[39m\u001b[38;5;241m.\u001b[39m_engine \u001b[38;5;241m=\u001b[39m \u001b[38;5;28;43mself\u001b[39;49m\u001b[38;5;241;43m.\u001b[39;49m\u001b[43m_make_engine\u001b[49m\u001b[43m(\u001b[49m\u001b[43mf\u001b[49m\u001b[43m,\u001b[49m\u001b[43m \u001b[49m\u001b[38;5;28;43mself\u001b[39;49m\u001b[38;5;241;43m.\u001b[39;49m\u001b[43mengine\u001b[49m\u001b[43m)\u001b[49m\n",
            "File \u001b[0;32m~/.pyenv/versions/3.10.15/lib/python3.10/site-packages/pandas/io/parsers/readers.py:1880\u001b[0m, in \u001b[0;36mTextFileReader._make_engine\u001b[0;34m(self, f, engine)\u001b[0m\n\u001b[1;32m   1878\u001b[0m     \u001b[38;5;28;01mif\u001b[39;00m \u001b[38;5;124m\"\u001b[39m\u001b[38;5;124mb\u001b[39m\u001b[38;5;124m\"\u001b[39m \u001b[38;5;129;01mnot\u001b[39;00m \u001b[38;5;129;01min\u001b[39;00m mode:\n\u001b[1;32m   1879\u001b[0m         mode \u001b[38;5;241m+\u001b[39m\u001b[38;5;241m=\u001b[39m \u001b[38;5;124m\"\u001b[39m\u001b[38;5;124mb\u001b[39m\u001b[38;5;124m\"\u001b[39m\n\u001b[0;32m-> 1880\u001b[0m \u001b[38;5;28mself\u001b[39m\u001b[38;5;241m.\u001b[39mhandles \u001b[38;5;241m=\u001b[39m \u001b[43mget_handle\u001b[49m\u001b[43m(\u001b[49m\n\u001b[1;32m   1881\u001b[0m \u001b[43m    \u001b[49m\u001b[43mf\u001b[49m\u001b[43m,\u001b[49m\n\u001b[1;32m   1882\u001b[0m \u001b[43m    \u001b[49m\u001b[43mmode\u001b[49m\u001b[43m,\u001b[49m\n\u001b[1;32m   1883\u001b[0m \u001b[43m    \u001b[49m\u001b[43mencoding\u001b[49m\u001b[38;5;241;43m=\u001b[39;49m\u001b[38;5;28;43mself\u001b[39;49m\u001b[38;5;241;43m.\u001b[39;49m\u001b[43moptions\u001b[49m\u001b[38;5;241;43m.\u001b[39;49m\u001b[43mget\u001b[49m\u001b[43m(\u001b[49m\u001b[38;5;124;43m\"\u001b[39;49m\u001b[38;5;124;43mencoding\u001b[39;49m\u001b[38;5;124;43m\"\u001b[39;49m\u001b[43m,\u001b[49m\u001b[43m \u001b[49m\u001b[38;5;28;43;01mNone\u001b[39;49;00m\u001b[43m)\u001b[49m\u001b[43m,\u001b[49m\n\u001b[1;32m   1884\u001b[0m \u001b[43m    \u001b[49m\u001b[43mcompression\u001b[49m\u001b[38;5;241;43m=\u001b[39;49m\u001b[38;5;28;43mself\u001b[39;49m\u001b[38;5;241;43m.\u001b[39;49m\u001b[43moptions\u001b[49m\u001b[38;5;241;43m.\u001b[39;49m\u001b[43mget\u001b[49m\u001b[43m(\u001b[49m\u001b[38;5;124;43m\"\u001b[39;49m\u001b[38;5;124;43mcompression\u001b[39;49m\u001b[38;5;124;43m\"\u001b[39;49m\u001b[43m,\u001b[49m\u001b[43m \u001b[49m\u001b[38;5;28;43;01mNone\u001b[39;49;00m\u001b[43m)\u001b[49m\u001b[43m,\u001b[49m\n\u001b[1;32m   1885\u001b[0m \u001b[43m    \u001b[49m\u001b[43mmemory_map\u001b[49m\u001b[38;5;241;43m=\u001b[39;49m\u001b[38;5;28;43mself\u001b[39;49m\u001b[38;5;241;43m.\u001b[39;49m\u001b[43moptions\u001b[49m\u001b[38;5;241;43m.\u001b[39;49m\u001b[43mget\u001b[49m\u001b[43m(\u001b[49m\u001b[38;5;124;43m\"\u001b[39;49m\u001b[38;5;124;43mmemory_map\u001b[39;49m\u001b[38;5;124;43m\"\u001b[39;49m\u001b[43m,\u001b[49m\u001b[43m \u001b[49m\u001b[38;5;28;43;01mFalse\u001b[39;49;00m\u001b[43m)\u001b[49m\u001b[43m,\u001b[49m\n\u001b[1;32m   1886\u001b[0m \u001b[43m    \u001b[49m\u001b[43mis_text\u001b[49m\u001b[38;5;241;43m=\u001b[39;49m\u001b[43mis_text\u001b[49m\u001b[43m,\u001b[49m\n\u001b[1;32m   1887\u001b[0m \u001b[43m    \u001b[49m\u001b[43merrors\u001b[49m\u001b[38;5;241;43m=\u001b[39;49m\u001b[38;5;28;43mself\u001b[39;49m\u001b[38;5;241;43m.\u001b[39;49m\u001b[43moptions\u001b[49m\u001b[38;5;241;43m.\u001b[39;49m\u001b[43mget\u001b[49m\u001b[43m(\u001b[49m\u001b[38;5;124;43m\"\u001b[39;49m\u001b[38;5;124;43mencoding_errors\u001b[39;49m\u001b[38;5;124;43m\"\u001b[39;49m\u001b[43m,\u001b[49m\u001b[43m \u001b[49m\u001b[38;5;124;43m\"\u001b[39;49m\u001b[38;5;124;43mstrict\u001b[39;49m\u001b[38;5;124;43m\"\u001b[39;49m\u001b[43m)\u001b[49m\u001b[43m,\u001b[49m\n\u001b[1;32m   1888\u001b[0m \u001b[43m    \u001b[49m\u001b[43mstorage_options\u001b[49m\u001b[38;5;241;43m=\u001b[39;49m\u001b[38;5;28;43mself\u001b[39;49m\u001b[38;5;241;43m.\u001b[39;49m\u001b[43moptions\u001b[49m\u001b[38;5;241;43m.\u001b[39;49m\u001b[43mget\u001b[49m\u001b[43m(\u001b[49m\u001b[38;5;124;43m\"\u001b[39;49m\u001b[38;5;124;43mstorage_options\u001b[39;49m\u001b[38;5;124;43m\"\u001b[39;49m\u001b[43m,\u001b[49m\u001b[43m \u001b[49m\u001b[38;5;28;43;01mNone\u001b[39;49;00m\u001b[43m)\u001b[49m\u001b[43m,\u001b[49m\n\u001b[1;32m   1889\u001b[0m \u001b[43m\u001b[49m\u001b[43m)\u001b[49m\n\u001b[1;32m   1890\u001b[0m \u001b[38;5;28;01massert\u001b[39;00m \u001b[38;5;28mself\u001b[39m\u001b[38;5;241m.\u001b[39mhandles \u001b[38;5;129;01mis\u001b[39;00m \u001b[38;5;129;01mnot\u001b[39;00m \u001b[38;5;28;01mNone\u001b[39;00m\n\u001b[1;32m   1891\u001b[0m f \u001b[38;5;241m=\u001b[39m \u001b[38;5;28mself\u001b[39m\u001b[38;5;241m.\u001b[39mhandles\u001b[38;5;241m.\u001b[39mhandle\n",
            "File \u001b[0;32m~/.pyenv/versions/3.10.15/lib/python3.10/site-packages/pandas/io/common.py:873\u001b[0m, in \u001b[0;36mget_handle\u001b[0;34m(path_or_buf, mode, encoding, compression, memory_map, is_text, errors, storage_options)\u001b[0m\n\u001b[1;32m    868\u001b[0m \u001b[38;5;28;01melif\u001b[39;00m \u001b[38;5;28misinstance\u001b[39m(handle, \u001b[38;5;28mstr\u001b[39m):\n\u001b[1;32m    869\u001b[0m     \u001b[38;5;66;03m# Check whether the filename is to be opened in binary mode.\u001b[39;00m\n\u001b[1;32m    870\u001b[0m     \u001b[38;5;66;03m# Binary mode does not support 'encoding' and 'newline'.\u001b[39;00m\n\u001b[1;32m    871\u001b[0m     \u001b[38;5;28;01mif\u001b[39;00m ioargs\u001b[38;5;241m.\u001b[39mencoding \u001b[38;5;129;01mand\u001b[39;00m \u001b[38;5;124m\"\u001b[39m\u001b[38;5;124mb\u001b[39m\u001b[38;5;124m\"\u001b[39m \u001b[38;5;129;01mnot\u001b[39;00m \u001b[38;5;129;01min\u001b[39;00m ioargs\u001b[38;5;241m.\u001b[39mmode:\n\u001b[1;32m    872\u001b[0m         \u001b[38;5;66;03m# Encoding\u001b[39;00m\n\u001b[0;32m--> 873\u001b[0m         handle \u001b[38;5;241m=\u001b[39m \u001b[38;5;28;43mopen\u001b[39;49m\u001b[43m(\u001b[49m\n\u001b[1;32m    874\u001b[0m \u001b[43m            \u001b[49m\u001b[43mhandle\u001b[49m\u001b[43m,\u001b[49m\n\u001b[1;32m    875\u001b[0m \u001b[43m            \u001b[49m\u001b[43mioargs\u001b[49m\u001b[38;5;241;43m.\u001b[39;49m\u001b[43mmode\u001b[49m\u001b[43m,\u001b[49m\n\u001b[1;32m    876\u001b[0m \u001b[43m            \u001b[49m\u001b[43mencoding\u001b[49m\u001b[38;5;241;43m=\u001b[39;49m\u001b[43mioargs\u001b[49m\u001b[38;5;241;43m.\u001b[39;49m\u001b[43mencoding\u001b[49m\u001b[43m,\u001b[49m\n\u001b[1;32m    877\u001b[0m \u001b[43m            \u001b[49m\u001b[43merrors\u001b[49m\u001b[38;5;241;43m=\u001b[39;49m\u001b[43merrors\u001b[49m\u001b[43m,\u001b[49m\n\u001b[1;32m    878\u001b[0m \u001b[43m            \u001b[49m\u001b[43mnewline\u001b[49m\u001b[38;5;241;43m=\u001b[39;49m\u001b[38;5;124;43m\"\u001b[39;49m\u001b[38;5;124;43m\"\u001b[39;49m\u001b[43m,\u001b[49m\n\u001b[1;32m    879\u001b[0m \u001b[43m        \u001b[49m\u001b[43m)\u001b[49m\n\u001b[1;32m    880\u001b[0m     \u001b[38;5;28;01melse\u001b[39;00m:\n\u001b[1;32m    881\u001b[0m         \u001b[38;5;66;03m# Binary mode\u001b[39;00m\n\u001b[1;32m    882\u001b[0m         handle \u001b[38;5;241m=\u001b[39m \u001b[38;5;28mopen\u001b[39m(handle, ioargs\u001b[38;5;241m.\u001b[39mmode)\n",
            "\u001b[0;31mFileNotFoundError\u001b[0m: [Errno 2] No such file or directory: '/content/extracted_files/reviews.csv'"
          ]
        }
      ],
      "source": [
        "import pandas as pd\n",
        "\n",
        "# Load the CSV file\n",
        "df1 = pd.read_csv('/content/extracted_files/reviews.csv')\n",
        "df2 = pd.read_csv('/content/extracted_files/korean_drama.csv')\n",
        "df3 = pd.read_csv('/content/extracted_files/recommendations.csv')\n",
        "df4 = pd.read_csv('/content/extracted_files/wiki_actors.csv')"
      ]
    },
    {
      "cell_type": "code",
      "execution_count": null,
      "metadata": {
        "colab": {
          "base_uri": "https://localhost:8080/"
        },
        "id": "0Am-1_cqVIEO",
        "outputId": "3d62cc28-02f1-4cc7-aaad-192b3dbcfaf8"
      },
      "outputs": [
        {
          "name": "stdout",
          "output_type": "stream",
          "text": [
            "Head of reviews.csv:\n",
            "                            user_id                            title  \\\n",
            "0  c8ffdab3f2a338eeb54b265598dbbb55                    Sing My Crush   \n",
            "1  c8ffdab3f2a338eeb54b265598dbbb55               Happy Merry Ending   \n",
            "2  c8ffdab3f2a338eeb54b265598dbbb55        Duty After School: Part 2   \n",
            "3  c8ffdab3f2a338eeb54b265598dbbb55                   Our Dating Sim   \n",
            "4  c8ffdab3f2a338eeb54b265598dbbb55  The Director Who Buys Me Dinner   \n",
            "\n",
            "   story_score  acting_cast_score  music_score  rewatch_value_score  \\\n",
            "0          9.0                9.0         10.0                  9.0   \n",
            "1          5.0                7.0          9.0                  4.0   \n",
            "2          4.0                9.0          3.0                  1.0   \n",
            "3          9.0                9.5          9.0                  9.0   \n",
            "4          7.5                8.5          7.0                  6.0   \n",
            "\n",
            "   overall_score                                        review_text  \\\n",
            "0            9.0  the Best Song from my Crush  This will now ran...   \n",
            "1            6.5  I'm Happy and Merry That it Ended Quickly The ...   \n",
            "2            4.0  This PART 2 Should Never Have Happened  If you...   \n",
            "3            9.0  I want to play this dating sim!  I want to pla...   \n",
            "4            7.0  Half-Cooked, Dont Eat  A hard pass, unless som...   \n",
            "\n",
            "               ep_watched  n_helpful  \n",
            "0    8 of 8 episodes seen         23  \n",
            "1    8 of 8 episodes seen         31  \n",
            "2    4 of 4 episodes seen        121  \n",
            "3    8 of 8 episodes seen         79  \n",
            "4  10 of 10 episodes seen         66  \n",
            "\n",
            "Head of korean_drama.csv:\n",
            "                          kdrama_id                 drama_name  year  \\\n",
            "0  661d4193916c4e71a2c70473ab11e9e8              Sing My Crush  2023   \n",
            "1  5ffcbeaa17114714af1959129984274c              D.P. Season 2  2023   \n",
            "2  65075cb9c1a54be4a441cee6f16c9fdf  Shadow Detective Season 2  2023   \n",
            "3  df0f0ac4b3ff4b15afa26f5a7a53a328               To Be Honest  2023   \n",
            "4  04c1fe41948e464fb440001831d74d41                  Celebrity  2023   \n",
            "\n",
            "           director                         screenwriter      country   type  \\\n",
            "0  ['So Joon Moon']                                  NaN  South Korea  Drama   \n",
            "1               NaN                      ['Kim Bo Tong']  South Korea  Drama   \n",
            "2  ['Han Dong Hwa']  ['Song Jung Woo', 'Hwang Seol Hun']  South Korea  Drama   \n",
            "3               NaN                                  NaN  South Korea  Drama   \n",
            "4  ['Kim Chul Gyu']                     ['Kim Yi Young']  South Korea  Drama   \n",
            "\n",
            "   tot_eps  duration      start_dt        end_dt   aired_on       org_net  \\\n",
            "0        8    1500.0  Aug  2, 2023  Aug  2, 2023  Wednesday           NaN   \n",
            "1        6    3000.0  Jul 28, 2023  Jul 28, 2023     Friday       Netflix   \n",
            "2        8    3300.0    2023-07-05    2023-07-26  Wednesday  Disney+ Hulu   \n",
            "3        3     600.0    2023-06-30    2023-07-14     Friday           NaN   \n",
            "4       12    2700.0  Jun 30, 2023  Jun 30, 2023     Friday       Netflix   \n",
            "\n",
            "                              content_rt  \\\n",
            "0                          Not Yet Rated   \n",
            "1                15+ - Teens 15 or older   \n",
            "2                15+ - Teens 15 or older   \n",
            "3                          Not Yet Rated   \n",
            "4  18+ Restricted (violence & profanity)   \n",
            "\n",
            "                                            synopsis   rank    pop  \n",
            "0  Follow the story of acquaintances Ba Ram and H...   1484   2238  \n",
            "1  This unfolding story ensues when military dese...    164   1084  \n",
            "2  Unfolds the ultimate counterattack of veteran ...   2443   6915  \n",
            "3  Don't you have those days where the whole univ...  49895  99999  \n",
            "4  Fame. Money. Power. One young woman fights to ...    826    547  \n",
            "\n",
            "Head of recommendations.csv:\n",
            "                 kdrama_name  \\\n",
            "0                  Mask Girl   \n",
            "1              Sing My Crush   \n",
            "2              D.P. Season 2   \n",
            "3                 Not Others   \n",
            "4  Shadow Detective Season 2   \n",
            "\n",
            "                                     recommendations  \n",
            "0  ['Sympathy for Lady Vengeance', 'True Beauty',...  \n",
            "1  ['About Youth', 'Wish You: Your Melody From My...  \n",
            "2  ['Designated Survivor: 60 Days', 'D.P.', 'Weak...  \n",
            "3  [\"You're All Surrounded\", 'Hometown Cha-Cha-Ch...  \n",
            "4  ['WATCHER', 'Stranger', 'Stranger Season 2', '...  \n",
            "\n",
            "Head of wiki_actors.csv:\n",
            "                               actor_id    actor_name       drama_name  \\\n",
            "0  96612cd9-183e-4530-9e0d-d85322e6ec4c  Jang Do Yoon    Sing My Crush   \n",
            "1  96612cd9-183e-4530-9e0d-d85322e6ec4c  Jang Do Yoon     Finland Papa   \n",
            "2  96612cd9-183e-4530-9e0d-d85322e6ec4c  Jang Do Yoon    My Sweet Dear   \n",
            "3  96612cd9-183e-4530-9e0d-d85322e6ec4c  Jang Do Yoon  Lemon Car Video   \n",
            "4  b5f2eca0-6e6b-474d-88ad-46f4feaa0a8e  Son Hyun Woo    Sing My Crush   \n",
            "\n",
            "         character_name          role  \n",
            "0            Han Ba Ram     Main Role  \n",
            "1     Toto / Seung Yoon  Support Role  \n",
            "2                Ye Jun  Support Role  \n",
            "3  Jang Do Yoon (Ep. 1)     Main Role  \n",
            "4            Im Han Tae     Main Role  \n"
          ]
        }
      ],
      "source": [
        "# Menampilkan lima baris pertama dari setiap DataFrame\n",
        "print(\"Head of reviews.csv:\")\n",
        "print(df1.head())\n",
        "\n",
        "print(\"\\nHead of korean_drama.csv:\")\n",
        "print(df2.head())\n",
        "\n",
        "print(\"\\nHead of recommendations.csv:\")\n",
        "print(df3.head())\n",
        "\n",
        "print(\"\\nHead of wiki_actors.csv:\")\n",
        "print(df4.head())"
      ]
    },
    {
      "cell_type": "markdown",
      "metadata": {
        "id": "aAYf620EMO0f"
      },
      "source": [
        "# Summary of Dataframe"
      ]
    },
    {
      "cell_type": "code",
      "execution_count": null,
      "metadata": {
        "colab": {
          "base_uri": "https://localhost:8080/"
        },
        "id": "-MAHx8eiVOec",
        "outputId": "caff98d6-610a-4a2b-e0e5-f802dc7a8894"
      },
      "outputs": [
        {
          "name": "stdout",
          "output_type": "stream",
          "text": [
            "Info of reviews.csv:\n",
            "<class 'pandas.core.frame.DataFrame'>\n",
            "RangeIndex: 10625 entries, 0 to 10624\n",
            "Data columns (total 10 columns):\n",
            " #   Column               Non-Null Count  Dtype  \n",
            "---  ------               --------------  -----  \n",
            " 0   user_id              10625 non-null  object \n",
            " 1   title                10625 non-null  object \n",
            " 2   story_score          10625 non-null  float64\n",
            " 3   acting_cast_score    10625 non-null  float64\n",
            " 4   music_score          10625 non-null  float64\n",
            " 5   rewatch_value_score  10625 non-null  float64\n",
            " 6   overall_score        10625 non-null  float64\n",
            " 7   review_text          10619 non-null  object \n",
            " 8   ep_watched           10625 non-null  object \n",
            " 9   n_helpful            10625 non-null  int64  \n",
            "dtypes: float64(5), int64(1), object(4)\n",
            "memory usage: 830.2+ KB\n",
            "None\n",
            "\n",
            "Description of reviews.csv:\n",
            "        story_score  acting_cast_score   music_score  rewatch_value_score  \\\n",
            "count  10625.000000       10625.000000  10625.000000         10625.000000   \n",
            "mean       7.501459           8.442635      7.597271             6.170447   \n",
            "std        2.221619           1.750424      2.188483             3.086057   \n",
            "min        1.000000           1.000000      1.000000             1.000000   \n",
            "25%        6.000000           8.000000      6.500000             4.000000   \n",
            "50%        8.000000           9.000000      8.000000             7.000000   \n",
            "75%        9.000000          10.000000      9.500000             9.000000   \n",
            "max       10.000000          10.000000     10.000000            10.000000   \n",
            "\n",
            "       overall_score     n_helpful  \n",
            "count   10625.000000  10625.000000  \n",
            "mean        7.636988     15.553035  \n",
            "std         2.109013     31.726984  \n",
            "min         1.000000      0.000000  \n",
            "25%         6.500000      2.000000  \n",
            "50%         8.000000      6.000000  \n",
            "75%         9.500000     15.000000  \n",
            "max        10.000000    551.000000  \n",
            "\n",
            "Columns of reviews.csv:\n",
            "Index(['user_id', 'title', 'story_score', 'acting_cast_score', 'music_score',\n",
            "       'rewatch_value_score', 'overall_score', 'review_text', 'ep_watched',\n",
            "       'n_helpful'],\n",
            "      dtype='object')\n",
            "\n",
            "Info of korean_drama.csv:\n",
            "<class 'pandas.core.frame.DataFrame'>\n",
            "RangeIndex: 1752 entries, 0 to 1751\n",
            "Data columns (total 17 columns):\n",
            " #   Column        Non-Null Count  Dtype  \n",
            "---  ------        --------------  -----  \n",
            " 0   kdrama_id     1752 non-null   object \n",
            " 1   drama_name    1752 non-null   object \n",
            " 2   year          1752 non-null   int64  \n",
            " 3   director      1036 non-null   object \n",
            " 4   screenwriter  959 non-null    object \n",
            " 5   country       1752 non-null   object \n",
            " 6   type          1752 non-null   object \n",
            " 7   tot_eps       1752 non-null   int64  \n",
            " 8   duration      1728 non-null   float64\n",
            " 9   start_dt      1752 non-null   object \n",
            " 10  end_dt        1752 non-null   object \n",
            " 11  aired_on      1520 non-null   object \n",
            " 12  org_net       1344 non-null   object \n",
            " 13  content_rt    1752 non-null   object \n",
            " 14  synopsis      1584 non-null   object \n",
            " 15  rank          1752 non-null   int64  \n",
            " 16  pop           1752 non-null   int64  \n",
            "dtypes: float64(1), int64(4), object(12)\n",
            "memory usage: 232.8+ KB\n",
            "None\n",
            "\n",
            "Description of korean_drama.csv:\n",
            "              year      tot_eps     duration          rank           pop\n",
            "count  1752.000000  1752.000000  1728.000000   1752.000000   1752.000000\n",
            "mean   2019.006849    18.996005  2149.791667  22247.869292  22153.746575\n",
            "std       2.317455    25.618394  1532.133619  27688.839480  37776.993814\n",
            "min    2015.000000     1.000000    60.000000      9.000000      1.000000\n",
            "25%    2017.000000     8.000000   720.000000   2441.500000    915.750000\n",
            "50%    2019.000000    12.000000  1800.000000   6265.500000   3698.500000\n",
            "75%    2021.000000    16.000000  3600.000000  49204.500000  12086.250000\n",
            "max    2023.000000   150.000000  9180.000000  99999.000000  99999.000000\n",
            "\n",
            "Columns of korean_drama.csv:\n",
            "Index(['kdrama_id', 'drama_name', 'year', 'director', 'screenwriter',\n",
            "       'country', 'type', 'tot_eps', 'duration', 'start_dt', 'end_dt',\n",
            "       'aired_on', 'org_net', 'content_rt', 'synopsis', 'rank', 'pop'],\n",
            "      dtype='object')\n",
            "\n",
            "Info of recommendations.csv:\n",
            "<class 'pandas.core.frame.DataFrame'>\n",
            "RangeIndex: 1753 entries, 0 to 1752\n",
            "Data columns (total 2 columns):\n",
            " #   Column           Non-Null Count  Dtype \n",
            "---  ------           --------------  ----- \n",
            " 0   kdrama_name      1753 non-null   object\n",
            " 1   recommendations  1180 non-null   object\n",
            "dtypes: object(2)\n",
            "memory usage: 27.5+ KB\n",
            "None\n",
            "\n",
            "Description of recommendations.csv:\n",
            "       kdrama_name    recommendations\n",
            "count         1753               1180\n",
            "unique        1753               1168\n",
            "top      Mask Girl  ['Love Playlist']\n",
            "freq             1                  4\n",
            "\n",
            "Columns of recommendations.csv:\n",
            "Index(['kdrama_name', 'recommendations'], dtype='object')\n",
            "\n",
            "Info of wiki_actors.csv:\n",
            "<class 'pandas.core.frame.DataFrame'>\n",
            "RangeIndex: 8659 entries, 0 to 8658\n",
            "Data columns (total 5 columns):\n",
            " #   Column          Non-Null Count  Dtype \n",
            "---  ------          --------------  ----- \n",
            " 0   actor_id        8659 non-null   object\n",
            " 1   actor_name      8659 non-null   object\n",
            " 2   drama_name      8659 non-null   object\n",
            " 3   character_name  8659 non-null   object\n",
            " 4   role            8659 non-null   object\n",
            "dtypes: object(5)\n",
            "memory usage: 338.4+ KB\n",
            "None\n",
            "\n",
            "Description of wiki_actors.csv:\n",
            "                                    actor_id   actor_name  \\\n",
            "count                                   8659         8659   \n",
            "unique                                  3090         3090   \n",
            "top     79fae915-8759-419e-97d8-8e71d7bf986e  Lee Yoo Jin   \n",
            "freq                                      18           18   \n",
            "\n",
            "                 drama_name character_name       role  \n",
            "count                  8659           8659       8659  \n",
            "unique                 1643           7780          6  \n",
            "top     Check Out the Event        Himself  Main Role  \n",
            "freq                      6             18       5585  \n",
            "\n",
            "Columns of wiki_actors.csv:\n",
            "Index(['actor_id', 'actor_name', 'drama_name', 'character_name', 'role'], dtype='object')\n"
          ]
        }
      ],
      "source": [
        "# Menampilkan informasi umum, deskripsi statistik, dan daftar kolom dari setiap DataFrame\n",
        "print(\"Info of reviews.csv:\")\n",
        "print(df1.info())\n",
        "print(\"\\nDescription of reviews.csv:\")\n",
        "print(df1.describe())\n",
        "print(\"\\nColumns of reviews.csv:\")\n",
        "print(df1.columns)\n",
        "\n",
        "print(\"\\nInfo of korean_drama.csv:\")\n",
        "print(df2.info())\n",
        "print(\"\\nDescription of korean_drama.csv:\")\n",
        "print(df2.describe())\n",
        "print(\"\\nColumns of korean_drama.csv:\")\n",
        "print(df2.columns)\n",
        "\n",
        "print(\"\\nInfo of recommendations.csv:\")\n",
        "print(df3.info())\n",
        "print(\"\\nDescription of recommendations.csv:\")\n",
        "print(df3.describe())\n",
        "print(\"\\nColumns of recommendations.csv:\")\n",
        "print(df3.columns)\n",
        "\n",
        "print(\"\\nInfo of wiki_actors.csv:\")\n",
        "print(df4.info())\n",
        "print(\"\\nDescription of wiki_actors.csv:\")\n",
        "print(df4.describe())\n",
        "print(\"\\nColumns of wiki_actors.csv:\")\n",
        "print(df4.columns)"
      ]
    },
    {
      "cell_type": "markdown",
      "metadata": {
        "id": "Yfr-RjnvMZfT"
      },
      "source": [
        "# Cleaning Data"
      ]
    },
    {
      "cell_type": "markdown",
      "metadata": {
        "id": "led73kkxMdJ3"
      },
      "source": [
        "## Handling Missing Value"
      ]
    },
    {
      "cell_type": "code",
      "execution_count": null,
      "metadata": {
        "colab": {
          "base_uri": "https://localhost:8080/"
        },
        "id": "g90XERyoVRQk",
        "outputId": "f7a19bcb-4911-4180-ad3d-d3d10cfe8a73"
      },
      "outputs": [
        {
          "name": "stdout",
          "output_type": "stream",
          "text": [
            "Number of NaN values in reviews.csv:\n",
            "user_id                0\n",
            "title                  0\n",
            "story_score            0\n",
            "acting_cast_score      0\n",
            "music_score            0\n",
            "rewatch_value_score    0\n",
            "overall_score          0\n",
            "review_text            6\n",
            "ep_watched             0\n",
            "n_helpful              0\n",
            "dtype: int64\n",
            "\n",
            "Number of NaN values in korean_drama.csv:\n",
            "kdrama_id         0\n",
            "drama_name        0\n",
            "year              0\n",
            "director        716\n",
            "screenwriter    793\n",
            "country           0\n",
            "type              0\n",
            "tot_eps           0\n",
            "duration         24\n",
            "start_dt          0\n",
            "end_dt            0\n",
            "aired_on        232\n",
            "org_net         408\n",
            "content_rt        0\n",
            "synopsis        168\n",
            "rank              0\n",
            "pop               0\n",
            "dtype: int64\n",
            "\n",
            "Number of NaN values in recommendations.csv:\n",
            "kdrama_name          0\n",
            "recommendations    573\n",
            "dtype: int64\n",
            "\n",
            "Number of NaN values in wiki_actors.csv:\n",
            "actor_id          0\n",
            "actor_name        0\n",
            "drama_name        0\n",
            "character_name    0\n",
            "role              0\n",
            "dtype: int64\n"
          ]
        }
      ],
      "source": [
        "# Menampilkan jumlah nilai NaN dalam setiap kolom dari masing-masing DataFrame\n",
        "print(\"Number of NaN values in reviews.csv:\")\n",
        "print(pd.isnull(df1).sum())\n",
        "\n",
        "print(\"\\nNumber of NaN values in korean_drama.csv:\")\n",
        "print(pd.isnull(df2).sum())\n",
        "\n",
        "print(\"\\nNumber of NaN values in recommendations.csv:\")\n",
        "print(pd.isnull(df3).sum())\n",
        "\n",
        "print(\"\\nNumber of NaN values in wiki_actors.csv:\")\n",
        "print(pd.isnull(df4).sum())"
      ]
    },
    {
      "cell_type": "code",
      "execution_count": null,
      "metadata": {
        "colab": {
          "base_uri": "https://localhost:8080/"
        },
        "id": "7QmIWpctVUkY",
        "outputId": "e1d7d151-4a98-4d13-99df-de3b04e83f02"
      },
      "outputs": [
        {
          "name": "stdout",
          "output_type": "stream",
          "text": [
            "\n",
            "Null values in each column after cleaning:\n",
            "user_id                0\n",
            "title                  0\n",
            "story_score            0\n",
            "acting_cast_score      0\n",
            "music_score            0\n",
            "rewatch_value_score    0\n",
            "overall_score          0\n",
            "review_text            0\n",
            "ep_watched             0\n",
            "n_helpful              0\n",
            "dtype: int64\n",
            "\n",
            "First few rows of the cleaned DataFrame:\n",
            "                            user_id                            title  \\\n",
            "0  c8ffdab3f2a338eeb54b265598dbbb55                    Sing My Crush   \n",
            "1  c8ffdab3f2a338eeb54b265598dbbb55               Happy Merry Ending   \n",
            "2  c8ffdab3f2a338eeb54b265598dbbb55        Duty After School: Part 2   \n",
            "3  c8ffdab3f2a338eeb54b265598dbbb55                   Our Dating Sim   \n",
            "4  c8ffdab3f2a338eeb54b265598dbbb55  The Director Who Buys Me Dinner   \n",
            "\n",
            "   story_score  acting_cast_score  music_score  rewatch_value_score  \\\n",
            "0          9.0                9.0         10.0                  9.0   \n",
            "1          5.0                7.0          9.0                  4.0   \n",
            "2          4.0                9.0          3.0                  1.0   \n",
            "3          9.0                9.5          9.0                  9.0   \n",
            "4          7.5                8.5          7.0                  6.0   \n",
            "\n",
            "   overall_score                                        review_text  \\\n",
            "0            9.0  the Best Song from my Crush  This will now ran...   \n",
            "1            6.5  I'm Happy and Merry That it Ended Quickly The ...   \n",
            "2            4.0  This PART 2 Should Never Have Happened  If you...   \n",
            "3            9.0  I want to play this dating sim!  I want to pla...   \n",
            "4            7.0  Half-Cooked, Dont Eat  A hard pass, unless som...   \n",
            "\n",
            "               ep_watched  n_helpful  \n",
            "0    8 of 8 episodes seen         23  \n",
            "1    8 of 8 episodes seen         31  \n",
            "2    4 of 4 episodes seen        121  \n",
            "3    8 of 8 episodes seen         79  \n",
            "4  10 of 10 episodes seen         66  \n"
          ]
        }
      ],
      "source": [
        "# Remove rows with any null values\n",
        "df_cleaned = df1.dropna(how='any')\n",
        "# Check for null values in each column after cleaning\n",
        "null_values_after_cleaning = df_cleaned.isnull().sum()\n",
        "print(\"\\nNull values in each column after cleaning:\")\n",
        "print(null_values_after_cleaning)\n",
        "# Optionally, display the first few rows of the cleaned DataFrame\n",
        "print(\"\\nFirst few rows of the cleaned DataFrame:\")\n",
        "print(df_cleaned.head())"
      ]
    },
    {
      "cell_type": "markdown",
      "metadata": {
        "id": "7_rn1aVyMzmm"
      },
      "source": [
        "## Find Duplicate and Remove"
      ]
    },
    {
      "cell_type": "code",
      "execution_count": null,
      "metadata": {
        "colab": {
          "base_uri": "https://localhost:8080/"
        },
        "id": "2JggFEc-WVfk",
        "outputId": "345b05fa-2932-4a24-d215-ec8bf96fcd2c"
      },
      "outputs": [
        {
          "name": "stdout",
          "output_type": "stream",
          "text": [
            "Empty DataFrame\n",
            "Columns: [user_id, title, story_score, acting_cast_score, music_score, rewatch_value_score, overall_score, review_text, ep_watched, n_helpful, is_duplicate]\n",
            "Index: []\n",
            "Empty DataFrame\n",
            "Columns: [user_id, title, story_score, acting_cast_score, music_score, rewatch_value_score, overall_score, review_text, ep_watched, n_helpful]\n",
            "Index: []\n"
          ]
        }
      ],
      "source": [
        "# Menambahkan kolom 'is_duplicate' yang menandai baris duplikat\n",
        "duplicate_rows_all = df[df.duplicated(keep=False)].assign(is_duplicate=True)\n",
        "\n",
        "# Menampilkan baris duplikat beserta kolom 'is_duplicate'\n",
        "print(duplicate_rows_all)\n",
        "\n",
        "# Menghapus kolom 'is_duplicate' jika sudah tidak diperlukan\n",
        "duplicate_rows_all = duplicate_rows_all.drop(columns=['is_duplicate'])\n",
        "\n",
        "# Menampilkan DataFrame setelah menghapus kolom 'is_duplicate'\n",
        "print(duplicate_rows_all)"
      ]
    },
    {
      "cell_type": "markdown",
      "metadata": {
        "id": "S5Ls_bBMM38T"
      },
      "source": [
        "## Splitting Data Size"
      ]
    },
    {
      "cell_type": "markdown",
      "metadata": {
        "id": "egcZnuwMNDQc"
      },
      "source": [
        "Download terlebih dahulu dan masukkkan ke dalam google collab file cleaned_reviews.csv"
      ]
    },
    {
      "cell_type": "code",
      "execution_count": null,
      "metadata": {
        "colab": {
          "base_uri": "https://localhost:8080/",
          "height": 17
        },
        "id": "A4yd9AfsVt14",
        "outputId": "d4f100fe-72c5-4b5f-bdcf-94e7e1389d9e"
      },
      "outputs": [
        {
          "data": {
            "application/javascript": "\n    async function download(id, filename, size) {\n      if (!google.colab.kernel.accessAllowed) {\n        return;\n      }\n      const div = document.createElement('div');\n      const label = document.createElement('label');\n      label.textContent = `Downloading \"${filename}\": `;\n      div.appendChild(label);\n      const progress = document.createElement('progress');\n      progress.max = size;\n      div.appendChild(progress);\n      document.body.appendChild(div);\n\n      const buffers = [];\n      let downloaded = 0;\n\n      const channel = await google.colab.kernel.comms.open(id);\n      // Send a message to notify the kernel that we're ready.\n      channel.send({})\n\n      for await (const message of channel.messages) {\n        // Send a message to notify the kernel that we're ready.\n        channel.send({})\n        if (message.buffers) {\n          for (const buffer of message.buffers) {\n            buffers.push(buffer);\n            downloaded += buffer.byteLength;\n            progress.value = downloaded;\n          }\n        }\n      }\n      const blob = new Blob(buffers, {type: 'application/binary'});\n      const a = document.createElement('a');\n      a.href = window.URL.createObjectURL(blob);\n      a.download = filename;\n      div.appendChild(a);\n      a.click();\n      div.remove();\n    }\n  ",
            "text/plain": [
              "<IPython.core.display.Javascript object>"
            ]
          },
          "metadata": {},
          "output_type": "display_data"
        },
        {
          "data": {
            "application/javascript": "download(\"download_ac4bef38-e506-46a5-ae86-a1accb1c5175\", \"cleaned_reviews.csv\", 21487470)",
            "text/plain": [
              "<IPython.core.display.Javascript object>"
            ]
          },
          "metadata": {},
          "output_type": "display_data"
        }
      ],
      "source": [
        "from google.colab import files\n",
        "# Save the cleaned DataFrame to a new CSV file\n",
        "cleaned_csv_path = '/content/cleaned_reviews.csv'\n",
        "df_cleaned.to_csv(cleaned_csv_path, index=False)\n",
        "\n",
        "# Download the CSV file to your local machine\n",
        "files.download(cleaned_csv_path)"
      ]
    },
    {
      "cell_type": "code",
      "execution_count": null,
      "metadata": {
        "id": "1-mdS-LnM7E-"
      },
      "outputs": [],
      "source": [
        "import pandas as pd\n",
        "\n",
        "# Step 1: Read the large CSV file into a Pandas DataFrame\n",
        "df = pd.read_csv('cleaned_reviews.csv')\n",
        "\n",
        "# Step 2: Determine the number of rows per split\n",
        "num_splits = 5\n",
        "rows_per_split = len(df) // num_splits\n",
        "\n",
        "# Step 3 and 4: Loop over the range of splits, create DataFrames for each part, and write to separate CSV files\n",
        "for i in range(num_splits):\n",
        "    start_row = i * rows_per_split\n",
        "    if i == num_splits - 1:  # for the last split, include all remaining rows\n",
        "        end_row = len(df)\n",
        "    else:\n",
        "        end_row = (i + 1) * rows_per_split\n",
        "    split_df = df.iloc[start_row:end_row]\n",
        "\n",
        "    # Write the split DataFrame into a new CSV file\n",
        "    split_df.to_csv(f'cleaned_reviews_part_{i+1}.csv', index=False)"
      ]
    }
  ],
  "metadata": {
    "colab": {
      "include_colab_link": true,
      "provenance": [],
      "toc_visible": true
    },
    "kernelspec": {
      "display_name": "Python 3",
      "name": "python3"
    },
    "language_info": {
      "codemirror_mode": {
        "name": "ipython",
        "version": 3
      },
      "file_extension": ".py",
      "mimetype": "text/x-python",
      "name": "python",
      "nbconvert_exporter": "python",
      "pygments_lexer": "ipython3",
      "version": "3.10.15"
    }
  },
  "nbformat": 4,
  "nbformat_minor": 0
}
