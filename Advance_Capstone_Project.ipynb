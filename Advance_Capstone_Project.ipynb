{
  "nbformat": 4,
  "nbformat_minor": 0,
  "metadata": {
    "colab": {
      "provenance": [],
      "toc_visible": true,
      "include_colab_link": true
    },
    "kernelspec": {
      "name": "python3",
      "display_name": "Python 3"
    },
    "language_info": {
      "name": "python"
    }
  },
  "cells": [
    {
      "cell_type": "markdown",
      "metadata": {
        "id": "view-in-github",
        "colab_type": "text"
      },
      "source": [
        "<a href=\"https://colab.research.google.com/github/danyawn/advance-capstone-revou/blob/main/Advance_Capstone_Project.ipynb\" target=\"_parent\"><img src=\"https://colab.research.google.com/assets/colab-badge.svg\" alt=\"Open In Colab\"/></a>"
      ]
    },
    {
      "cell_type": "markdown",
      "source": [
        "# Load Dataset"
      ],
      "metadata": {
        "id": "uRxtlhQoMH7P"
      }
    },
    {
      "cell_type": "markdown",
      "source": [
        "Download terlebih dahuu dataset di sini [Kaggle](https://www.kaggle.com/datasets/chanoncharuchinda/korean-drama-2015-23-actor-and-reviewmydramalist?select=reviews.csv), lalu masukan ke dalam google collab"
      ],
      "metadata": {
        "id": "7QEZqTRPNdRC"
      }
    },
    {
      "cell_type": "code",
      "source": [
        "import zipfile\n",
        "import os\n",
        "\n",
        "# Lokasi file zip di Google Colab\n",
        "zip_file_path = '/content/Kaggle Advance.zip'\n",
        "# Folder untuk mengekstrak file zip\n",
        "extract_folder = '/content/extracted_files'\n",
        "\n",
        "# Fungsi untuk mengekstrak file dari zip dan mendownload file CSV\n",
        "def extract_and_download_csv(zip_file_path, extract_folder):\n",
        "    # Buat folder untuk mengekstrak file zip jika belum ada\n",
        "    if not os.path.exists(extract_folder):\n",
        "        os.makedirs(extract_folder)\n",
        "\n",
        "    # Buka file zip\n",
        "    with zipfile.ZipFile(zip_file_path, 'r') as zip_ref:\n",
        "        # Loop semua file di dalam zip\n",
        "        for file_name in zip_ref.namelist():\n",
        "            # Cek jika file adalah file CSV\n",
        "            if file_name.lower().endswith('.csv'):\n",
        "                # Ekstrak file CSV ke dalam folder extract_folder\n",
        "                zip_ref.extract(file_name, extract_folder)\n",
        "                print(f\"Extracted: {file_name}\")\n",
        "\n",
        "# Panggil fungsi untuk mengekstrak file CSV\n",
        "extract_and_download_csv(zip_file_path, extract_folder)\n",
        "\n",
        "# Hapus file zip setelah selesai\n",
        "os.remove(zip_file_path)"
      ],
      "metadata": {
        "colab": {
          "base_uri": "https://localhost:8080/"
        },
        "id": "hGsgDOiAdoQq",
        "outputId": "6172102f-4b54-4db9-aa9b-a2701d940397"
      },
      "execution_count": null,
      "outputs": [
        {
          "output_type": "stream",
          "name": "stdout",
          "text": [
            "Extracted: korean_drama.csv\n",
            "Extracted: recommendations.csv\n",
            "Extracted: reviews.csv\n",
            "Extracted: wiki_actors.csv\n"
          ]
        }
      ]
    },
    {
      "cell_type": "code",
      "source": [
        "from google.colab import drive\n",
        "drive.mount('/content/drive')"
      ],
      "metadata": {
        "id": "Aeq4bCOr8ufG"
      },
      "execution_count": null,
      "outputs": []
    },
    {
      "cell_type": "code",
      "execution_count": null,
      "metadata": {
        "id": "k5XQ_T2KT2fx"
      },
      "outputs": [],
      "source": [
        "import pandas as pd\n",
        "\n",
        "# Load the CSV file\n",
        "df1 = pd.read_csv('/content/extracted_files/reviews.csv')\n",
        "df2 = pd.read_csv('/content/extracted_files/korean_drama.csv')\n",
        "df3 = pd.read_csv('/content/extracted_files/recommendations.csv')\n",
        "df4 = pd.read_csv('/content/extracted_files/wiki_actors.csv')"
      ]
    },
    {
      "cell_type": "code",
      "source": [
        "# Menampilkan lima baris pertama dari setiap DataFrame\n",
        "print(\"Head of reviews.csv:\")\n",
        "print(df1.head())\n",
        "\n",
        "print(\"\\nHead of korean_drama.csv:\")\n",
        "print(df2.head())\n",
        "\n",
        "print(\"\\nHead of recommendations.csv:\")\n",
        "print(df3.head())\n",
        "\n",
        "print(\"\\nHead of wiki_actors.csv:\")\n",
        "print(df4.head())"
      ],
      "metadata": {
        "colab": {
          "base_uri": "https://localhost:8080/"
        },
        "id": "0Am-1_cqVIEO",
        "outputId": "3d62cc28-02f1-4cc7-aaad-192b3dbcfaf8"
      },
      "execution_count": null,
      "outputs": [
        {
          "output_type": "stream",
          "name": "stdout",
          "text": [
            "Head of reviews.csv:\n",
            "                            user_id                            title  \\\n",
            "0  c8ffdab3f2a338eeb54b265598dbbb55                    Sing My Crush   \n",
            "1  c8ffdab3f2a338eeb54b265598dbbb55               Happy Merry Ending   \n",
            "2  c8ffdab3f2a338eeb54b265598dbbb55        Duty After School: Part 2   \n",
            "3  c8ffdab3f2a338eeb54b265598dbbb55                   Our Dating Sim   \n",
            "4  c8ffdab3f2a338eeb54b265598dbbb55  The Director Who Buys Me Dinner   \n",
            "\n",
            "   story_score  acting_cast_score  music_score  rewatch_value_score  \\\n",
            "0          9.0                9.0         10.0                  9.0   \n",
            "1          5.0                7.0          9.0                  4.0   \n",
            "2          4.0                9.0          3.0                  1.0   \n",
            "3          9.0                9.5          9.0                  9.0   \n",
            "4          7.5                8.5          7.0                  6.0   \n",
            "\n",
            "   overall_score                                        review_text  \\\n",
            "0            9.0  the Best Song from my Crush  This will now ran...   \n",
            "1            6.5  I'm Happy and Merry That it Ended Quickly The ...   \n",
            "2            4.0  This PART 2 Should Never Have Happened  If you...   \n",
            "3            9.0  I want to play this dating sim!  I want to pla...   \n",
            "4            7.0  Half-Cooked, Dont Eat  A hard pass, unless som...   \n",
            "\n",
            "               ep_watched  n_helpful  \n",
            "0    8 of 8 episodes seen         23  \n",
            "1    8 of 8 episodes seen         31  \n",
            "2    4 of 4 episodes seen        121  \n",
            "3    8 of 8 episodes seen         79  \n",
            "4  10 of 10 episodes seen         66  \n",
            "\n",
            "Head of korean_drama.csv:\n",
            "                          kdrama_id                 drama_name  year  \\\n",
            "0  661d4193916c4e71a2c70473ab11e9e8              Sing My Crush  2023   \n",
            "1  5ffcbeaa17114714af1959129984274c              D.P. Season 2  2023   \n",
            "2  65075cb9c1a54be4a441cee6f16c9fdf  Shadow Detective Season 2  2023   \n",
            "3  df0f0ac4b3ff4b15afa26f5a7a53a328               To Be Honest  2023   \n",
            "4  04c1fe41948e464fb440001831d74d41                  Celebrity  2023   \n",
            "\n",
            "           director                         screenwriter      country   type  \\\n",
            "0  ['So Joon Moon']                                  NaN  South Korea  Drama   \n",
            "1               NaN                      ['Kim Bo Tong']  South Korea  Drama   \n",
            "2  ['Han Dong Hwa']  ['Song Jung Woo', 'Hwang Seol Hun']  South Korea  Drama   \n",
            "3               NaN                                  NaN  South Korea  Drama   \n",
            "4  ['Kim Chul Gyu']                     ['Kim Yi Young']  South Korea  Drama   \n",
            "\n",
            "   tot_eps  duration      start_dt        end_dt   aired_on       org_net  \\\n",
            "0        8    1500.0  Aug  2, 2023  Aug  2, 2023  Wednesday           NaN   \n",
            "1        6    3000.0  Jul 28, 2023  Jul 28, 2023     Friday       Netflix   \n",
            "2        8    3300.0    2023-07-05    2023-07-26  Wednesday  Disney+ Hulu   \n",
            "3        3     600.0    2023-06-30    2023-07-14     Friday           NaN   \n",
            "4       12    2700.0  Jun 30, 2023  Jun 30, 2023     Friday       Netflix   \n",
            "\n",
            "                              content_rt  \\\n",
            "0                          Not Yet Rated   \n",
            "1                15+ - Teens 15 or older   \n",
            "2                15+ - Teens 15 or older   \n",
            "3                          Not Yet Rated   \n",
            "4  18+ Restricted (violence & profanity)   \n",
            "\n",
            "                                            synopsis   rank    pop  \n",
            "0  Follow the story of acquaintances Ba Ram and H...   1484   2238  \n",
            "1  This unfolding story ensues when military dese...    164   1084  \n",
            "2  Unfolds the ultimate counterattack of veteran ...   2443   6915  \n",
            "3  Don't you have those days where the whole univ...  49895  99999  \n",
            "4  Fame. Money. Power. One young woman fights to ...    826    547  \n",
            "\n",
            "Head of recommendations.csv:\n",
            "                 kdrama_name  \\\n",
            "0                  Mask Girl   \n",
            "1              Sing My Crush   \n",
            "2              D.P. Season 2   \n",
            "3                 Not Others   \n",
            "4  Shadow Detective Season 2   \n",
            "\n",
            "                                     recommendations  \n",
            "0  ['Sympathy for Lady Vengeance', 'True Beauty',...  \n",
            "1  ['About Youth', 'Wish You: Your Melody From My...  \n",
            "2  ['Designated Survivor: 60 Days', 'D.P.', 'Weak...  \n",
            "3  [\"You're All Surrounded\", 'Hometown Cha-Cha-Ch...  \n",
            "4  ['WATCHER', 'Stranger', 'Stranger Season 2', '...  \n",
            "\n",
            "Head of wiki_actors.csv:\n",
            "                               actor_id    actor_name       drama_name  \\\n",
            "0  96612cd9-183e-4530-9e0d-d85322e6ec4c  Jang Do Yoon    Sing My Crush   \n",
            "1  96612cd9-183e-4530-9e0d-d85322e6ec4c  Jang Do Yoon     Finland Papa   \n",
            "2  96612cd9-183e-4530-9e0d-d85322e6ec4c  Jang Do Yoon    My Sweet Dear   \n",
            "3  96612cd9-183e-4530-9e0d-d85322e6ec4c  Jang Do Yoon  Lemon Car Video   \n",
            "4  b5f2eca0-6e6b-474d-88ad-46f4feaa0a8e  Son Hyun Woo    Sing My Crush   \n",
            "\n",
            "         character_name          role  \n",
            "0            Han Ba Ram     Main Role  \n",
            "1     Toto / Seung Yoon  Support Role  \n",
            "2                Ye Jun  Support Role  \n",
            "3  Jang Do Yoon (Ep. 1)     Main Role  \n",
            "4            Im Han Tae     Main Role  \n"
          ]
        }
      ]
    },
    {
      "cell_type": "markdown",
      "source": [
        "# Summary of Dataframe"
      ],
      "metadata": {
        "id": "aAYf620EMO0f"
      }
    },
    {
      "cell_type": "code",
      "source": [
        "# Menampilkan informasi umum, deskripsi statistik, dan daftar kolom dari setiap DataFrame\n",
        "print(\"Info of reviews.csv:\")\n",
        "print(df1.info())\n",
        "print(\"\\nDescription of reviews.csv:\")\n",
        "print(df1.describe())\n",
        "print(\"\\nColumns of reviews.csv:\")\n",
        "print(df1.columns)\n",
        "\n",
        "print(\"\\nInfo of korean_drama.csv:\")\n",
        "print(df2.info())\n",
        "print(\"\\nDescription of korean_drama.csv:\")\n",
        "print(df2.describe())\n",
        "print(\"\\nColumns of korean_drama.csv:\")\n",
        "print(df2.columns)\n",
        "\n",
        "print(\"\\nInfo of recommendations.csv:\")\n",
        "print(df3.info())\n",
        "print(\"\\nDescription of recommendations.csv:\")\n",
        "print(df3.describe())\n",
        "print(\"\\nColumns of recommendations.csv:\")\n",
        "print(df3.columns)\n",
        "\n",
        "print(\"\\nInfo of wiki_actors.csv:\")\n",
        "print(df4.info())\n",
        "print(\"\\nDescription of wiki_actors.csv:\")\n",
        "print(df4.describe())\n",
        "print(\"\\nColumns of wiki_actors.csv:\")\n",
        "print(df4.columns)"
      ],
      "metadata": {
        "colab": {
          "base_uri": "https://localhost:8080/"
        },
        "id": "-MAHx8eiVOec",
        "outputId": "caff98d6-610a-4a2b-e0e5-f802dc7a8894"
      },
      "execution_count": null,
      "outputs": [
        {
          "output_type": "stream",
          "name": "stdout",
          "text": [
            "Info of reviews.csv:\n",
            "<class 'pandas.core.frame.DataFrame'>\n",
            "RangeIndex: 10625 entries, 0 to 10624\n",
            "Data columns (total 10 columns):\n",
            " #   Column               Non-Null Count  Dtype  \n",
            "---  ------               --------------  -----  \n",
            " 0   user_id              10625 non-null  object \n",
            " 1   title                10625 non-null  object \n",
            " 2   story_score          10625 non-null  float64\n",
            " 3   acting_cast_score    10625 non-null  float64\n",
            " 4   music_score          10625 non-null  float64\n",
            " 5   rewatch_value_score  10625 non-null  float64\n",
            " 6   overall_score        10625 non-null  float64\n",
            " 7   review_text          10619 non-null  object \n",
            " 8   ep_watched           10625 non-null  object \n",
            " 9   n_helpful            10625 non-null  int64  \n",
            "dtypes: float64(5), int64(1), object(4)\n",
            "memory usage: 830.2+ KB\n",
            "None\n",
            "\n",
            "Description of reviews.csv:\n",
            "        story_score  acting_cast_score   music_score  rewatch_value_score  \\\n",
            "count  10625.000000       10625.000000  10625.000000         10625.000000   \n",
            "mean       7.501459           8.442635      7.597271             6.170447   \n",
            "std        2.221619           1.750424      2.188483             3.086057   \n",
            "min        1.000000           1.000000      1.000000             1.000000   \n",
            "25%        6.000000           8.000000      6.500000             4.000000   \n",
            "50%        8.000000           9.000000      8.000000             7.000000   \n",
            "75%        9.000000          10.000000      9.500000             9.000000   \n",
            "max       10.000000          10.000000     10.000000            10.000000   \n",
            "\n",
            "       overall_score     n_helpful  \n",
            "count   10625.000000  10625.000000  \n",
            "mean        7.636988     15.553035  \n",
            "std         2.109013     31.726984  \n",
            "min         1.000000      0.000000  \n",
            "25%         6.500000      2.000000  \n",
            "50%         8.000000      6.000000  \n",
            "75%         9.500000     15.000000  \n",
            "max        10.000000    551.000000  \n",
            "\n",
            "Columns of reviews.csv:\n",
            "Index(['user_id', 'title', 'story_score', 'acting_cast_score', 'music_score',\n",
            "       'rewatch_value_score', 'overall_score', 'review_text', 'ep_watched',\n",
            "       'n_helpful'],\n",
            "      dtype='object')\n",
            "\n",
            "Info of korean_drama.csv:\n",
            "<class 'pandas.core.frame.DataFrame'>\n",
            "RangeIndex: 1752 entries, 0 to 1751\n",
            "Data columns (total 17 columns):\n",
            " #   Column        Non-Null Count  Dtype  \n",
            "---  ------        --------------  -----  \n",
            " 0   kdrama_id     1752 non-null   object \n",
            " 1   drama_name    1752 non-null   object \n",
            " 2   year          1752 non-null   int64  \n",
            " 3   director      1036 non-null   object \n",
            " 4   screenwriter  959 non-null    object \n",
            " 5   country       1752 non-null   object \n",
            " 6   type          1752 non-null   object \n",
            " 7   tot_eps       1752 non-null   int64  \n",
            " 8   duration      1728 non-null   float64\n",
            " 9   start_dt      1752 non-null   object \n",
            " 10  end_dt        1752 non-null   object \n",
            " 11  aired_on      1520 non-null   object \n",
            " 12  org_net       1344 non-null   object \n",
            " 13  content_rt    1752 non-null   object \n",
            " 14  synopsis      1584 non-null   object \n",
            " 15  rank          1752 non-null   int64  \n",
            " 16  pop           1752 non-null   int64  \n",
            "dtypes: float64(1), int64(4), object(12)\n",
            "memory usage: 232.8+ KB\n",
            "None\n",
            "\n",
            "Description of korean_drama.csv:\n",
            "              year      tot_eps     duration          rank           pop\n",
            "count  1752.000000  1752.000000  1728.000000   1752.000000   1752.000000\n",
            "mean   2019.006849    18.996005  2149.791667  22247.869292  22153.746575\n",
            "std       2.317455    25.618394  1532.133619  27688.839480  37776.993814\n",
            "min    2015.000000     1.000000    60.000000      9.000000      1.000000\n",
            "25%    2017.000000     8.000000   720.000000   2441.500000    915.750000\n",
            "50%    2019.000000    12.000000  1800.000000   6265.500000   3698.500000\n",
            "75%    2021.000000    16.000000  3600.000000  49204.500000  12086.250000\n",
            "max    2023.000000   150.000000  9180.000000  99999.000000  99999.000000\n",
            "\n",
            "Columns of korean_drama.csv:\n",
            "Index(['kdrama_id', 'drama_name', 'year', 'director', 'screenwriter',\n",
            "       'country', 'type', 'tot_eps', 'duration', 'start_dt', 'end_dt',\n",
            "       'aired_on', 'org_net', 'content_rt', 'synopsis', 'rank', 'pop'],\n",
            "      dtype='object')\n",
            "\n",
            "Info of recommendations.csv:\n",
            "<class 'pandas.core.frame.DataFrame'>\n",
            "RangeIndex: 1753 entries, 0 to 1752\n",
            "Data columns (total 2 columns):\n",
            " #   Column           Non-Null Count  Dtype \n",
            "---  ------           --------------  ----- \n",
            " 0   kdrama_name      1753 non-null   object\n",
            " 1   recommendations  1180 non-null   object\n",
            "dtypes: object(2)\n",
            "memory usage: 27.5+ KB\n",
            "None\n",
            "\n",
            "Description of recommendations.csv:\n",
            "       kdrama_name    recommendations\n",
            "count         1753               1180\n",
            "unique        1753               1168\n",
            "top      Mask Girl  ['Love Playlist']\n",
            "freq             1                  4\n",
            "\n",
            "Columns of recommendations.csv:\n",
            "Index(['kdrama_name', 'recommendations'], dtype='object')\n",
            "\n",
            "Info of wiki_actors.csv:\n",
            "<class 'pandas.core.frame.DataFrame'>\n",
            "RangeIndex: 8659 entries, 0 to 8658\n",
            "Data columns (total 5 columns):\n",
            " #   Column          Non-Null Count  Dtype \n",
            "---  ------          --------------  ----- \n",
            " 0   actor_id        8659 non-null   object\n",
            " 1   actor_name      8659 non-null   object\n",
            " 2   drama_name      8659 non-null   object\n",
            " 3   character_name  8659 non-null   object\n",
            " 4   role            8659 non-null   object\n",
            "dtypes: object(5)\n",
            "memory usage: 338.4+ KB\n",
            "None\n",
            "\n",
            "Description of wiki_actors.csv:\n",
            "                                    actor_id   actor_name  \\\n",
            "count                                   8659         8659   \n",
            "unique                                  3090         3090   \n",
            "top     79fae915-8759-419e-97d8-8e71d7bf986e  Lee Yoo Jin   \n",
            "freq                                      18           18   \n",
            "\n",
            "                 drama_name character_name       role  \n",
            "count                  8659           8659       8659  \n",
            "unique                 1643           7780          6  \n",
            "top     Check Out the Event        Himself  Main Role  \n",
            "freq                      6             18       5585  \n",
            "\n",
            "Columns of wiki_actors.csv:\n",
            "Index(['actor_id', 'actor_name', 'drama_name', 'character_name', 'role'], dtype='object')\n"
          ]
        }
      ]
    },
    {
      "cell_type": "markdown",
      "source": [
        "# Cleaning Data"
      ],
      "metadata": {
        "id": "Yfr-RjnvMZfT"
      }
    },
    {
      "cell_type": "markdown",
      "source": [
        "## Handling Missing Value"
      ],
      "metadata": {
        "id": "led73kkxMdJ3"
      }
    },
    {
      "cell_type": "code",
      "source": [
        "# Menampilkan jumlah nilai NaN dalam setiap kolom dari masing-masing DataFrame\n",
        "print(\"Number of NaN values in reviews.csv:\")\n",
        "print(pd.isnull(df1).sum())\n",
        "\n",
        "print(\"\\nNumber of NaN values in korean_drama.csv:\")\n",
        "print(pd.isnull(df2).sum())\n",
        "\n",
        "print(\"\\nNumber of NaN values in recommendations.csv:\")\n",
        "print(pd.isnull(df3).sum())\n",
        "\n",
        "print(\"\\nNumber of NaN values in wiki_actors.csv:\")\n",
        "print(pd.isnull(df4).sum())"
      ],
      "metadata": {
        "colab": {
          "base_uri": "https://localhost:8080/"
        },
        "id": "g90XERyoVRQk",
        "outputId": "f7a19bcb-4911-4180-ad3d-d3d10cfe8a73"
      },
      "execution_count": null,
      "outputs": [
        {
          "output_type": "stream",
          "name": "stdout",
          "text": [
            "Number of NaN values in reviews.csv:\n",
            "user_id                0\n",
            "title                  0\n",
            "story_score            0\n",
            "acting_cast_score      0\n",
            "music_score            0\n",
            "rewatch_value_score    0\n",
            "overall_score          0\n",
            "review_text            6\n",
            "ep_watched             0\n",
            "n_helpful              0\n",
            "dtype: int64\n",
            "\n",
            "Number of NaN values in korean_drama.csv:\n",
            "kdrama_id         0\n",
            "drama_name        0\n",
            "year              0\n",
            "director        716\n",
            "screenwriter    793\n",
            "country           0\n",
            "type              0\n",
            "tot_eps           0\n",
            "duration         24\n",
            "start_dt          0\n",
            "end_dt            0\n",
            "aired_on        232\n",
            "org_net         408\n",
            "content_rt        0\n",
            "synopsis        168\n",
            "rank              0\n",
            "pop               0\n",
            "dtype: int64\n",
            "\n",
            "Number of NaN values in recommendations.csv:\n",
            "kdrama_name          0\n",
            "recommendations    573\n",
            "dtype: int64\n",
            "\n",
            "Number of NaN values in wiki_actors.csv:\n",
            "actor_id          0\n",
            "actor_name        0\n",
            "drama_name        0\n",
            "character_name    0\n",
            "role              0\n",
            "dtype: int64\n"
          ]
        }
      ]
    },
    {
      "cell_type": "code",
      "source": [
        "# Remove rows with any null values\n",
        "df_cleaned = df1.dropna(how='any')\n",
        "# Check for null values in each column after cleaning\n",
        "null_values_after_cleaning = df_cleaned.isnull().sum()\n",
        "print(\"\\nNull values in each column after cleaning:\")\n",
        "print(null_values_after_cleaning)\n",
        "# Optionally, display the first few rows of the cleaned DataFrame\n",
        "print(\"\\nFirst few rows of the cleaned DataFrame:\")\n",
        "print(df_cleaned.head())"
      ],
      "metadata": {
        "colab": {
          "base_uri": "https://localhost:8080/"
        },
        "id": "7QmIWpctVUkY",
        "outputId": "e1d7d151-4a98-4d13-99df-de3b04e83f02"
      },
      "execution_count": null,
      "outputs": [
        {
          "output_type": "stream",
          "name": "stdout",
          "text": [
            "\n",
            "Null values in each column after cleaning:\n",
            "user_id                0\n",
            "title                  0\n",
            "story_score            0\n",
            "acting_cast_score      0\n",
            "music_score            0\n",
            "rewatch_value_score    0\n",
            "overall_score          0\n",
            "review_text            0\n",
            "ep_watched             0\n",
            "n_helpful              0\n",
            "dtype: int64\n",
            "\n",
            "First few rows of the cleaned DataFrame:\n",
            "                            user_id                            title  \\\n",
            "0  c8ffdab3f2a338eeb54b265598dbbb55                    Sing My Crush   \n",
            "1  c8ffdab3f2a338eeb54b265598dbbb55               Happy Merry Ending   \n",
            "2  c8ffdab3f2a338eeb54b265598dbbb55        Duty After School: Part 2   \n",
            "3  c8ffdab3f2a338eeb54b265598dbbb55                   Our Dating Sim   \n",
            "4  c8ffdab3f2a338eeb54b265598dbbb55  The Director Who Buys Me Dinner   \n",
            "\n",
            "   story_score  acting_cast_score  music_score  rewatch_value_score  \\\n",
            "0          9.0                9.0         10.0                  9.0   \n",
            "1          5.0                7.0          9.0                  4.0   \n",
            "2          4.0                9.0          3.0                  1.0   \n",
            "3          9.0                9.5          9.0                  9.0   \n",
            "4          7.5                8.5          7.0                  6.0   \n",
            "\n",
            "   overall_score                                        review_text  \\\n",
            "0            9.0  the Best Song from my Crush  This will now ran...   \n",
            "1            6.5  I'm Happy and Merry That it Ended Quickly The ...   \n",
            "2            4.0  This PART 2 Should Never Have Happened  If you...   \n",
            "3            9.0  I want to play this dating sim!  I want to pla...   \n",
            "4            7.0  Half-Cooked, Dont Eat  A hard pass, unless som...   \n",
            "\n",
            "               ep_watched  n_helpful  \n",
            "0    8 of 8 episodes seen         23  \n",
            "1    8 of 8 episodes seen         31  \n",
            "2    4 of 4 episodes seen        121  \n",
            "3    8 of 8 episodes seen         79  \n",
            "4  10 of 10 episodes seen         66  \n"
          ]
        }
      ]
    },
    {
      "cell_type": "markdown",
      "source": [
        "## Find Duplicate and Remove"
      ],
      "metadata": {
        "id": "7_rn1aVyMzmm"
      }
    },
    {
      "cell_type": "code",
      "source": [
        "# Menambahkan kolom 'is_duplicate' yang menandai baris duplikat\n",
        "duplicate_rows_all = df[df.duplicated(keep=False)].assign(is_duplicate=True)\n",
        "\n",
        "# Menampilkan baris duplikat beserta kolom 'is_duplicate'\n",
        "print(duplicate_rows_all)\n",
        "\n",
        "# Menghapus kolom 'is_duplicate' jika sudah tidak diperlukan\n",
        "duplicate_rows_all = duplicate_rows_all.drop(columns=['is_duplicate'])\n",
        "\n",
        "# Menampilkan DataFrame setelah menghapus kolom 'is_duplicate'\n",
        "print(duplicate_rows_all)"
      ],
      "metadata": {
        "colab": {
          "base_uri": "https://localhost:8080/"
        },
        "id": "2JggFEc-WVfk",
        "outputId": "345b05fa-2932-4a24-d215-ec8bf96fcd2c"
      },
      "execution_count": null,
      "outputs": [
        {
          "output_type": "stream",
          "name": "stdout",
          "text": [
            "Empty DataFrame\n",
            "Columns: [user_id, title, story_score, acting_cast_score, music_score, rewatch_value_score, overall_score, review_text, ep_watched, n_helpful, is_duplicate]\n",
            "Index: []\n",
            "Empty DataFrame\n",
            "Columns: [user_id, title, story_score, acting_cast_score, music_score, rewatch_value_score, overall_score, review_text, ep_watched, n_helpful]\n",
            "Index: []\n"
          ]
        }
      ]
    },
    {
      "cell_type": "markdown",
      "source": [
        "## Splitting Data Size"
      ],
      "metadata": {
        "id": "S5Ls_bBMM38T"
      }
    },
    {
      "cell_type": "markdown",
      "source": [
        "Download terlebih dahulu dan masukkkan ke dalam google collab file cleaned_reviews.csv"
      ],
      "metadata": {
        "id": "egcZnuwMNDQc"
      }
    },
    {
      "cell_type": "code",
      "source": [
        "from google.colab import files\n",
        "# Save the cleaned DataFrame to a new CSV file\n",
        "cleaned_csv_path = '/content/cleaned_reviews.csv'\n",
        "df_cleaned.to_csv(cleaned_csv_path, index=False)\n",
        "\n",
        "# Download the CSV file to your local machine\n",
        "files.download(cleaned_csv_path)"
      ],
      "metadata": {
        "colab": {
          "base_uri": "https://localhost:8080/",
          "height": 17
        },
        "id": "A4yd9AfsVt14",
        "outputId": "d4f100fe-72c5-4b5f-bdcf-94e7e1389d9e"
      },
      "execution_count": null,
      "outputs": [
        {
          "output_type": "display_data",
          "data": {
            "text/plain": [
              "<IPython.core.display.Javascript object>"
            ],
            "application/javascript": [
              "\n",
              "    async function download(id, filename, size) {\n",
              "      if (!google.colab.kernel.accessAllowed) {\n",
              "        return;\n",
              "      }\n",
              "      const div = document.createElement('div');\n",
              "      const label = document.createElement('label');\n",
              "      label.textContent = `Downloading \"${filename}\": `;\n",
              "      div.appendChild(label);\n",
              "      const progress = document.createElement('progress');\n",
              "      progress.max = size;\n",
              "      div.appendChild(progress);\n",
              "      document.body.appendChild(div);\n",
              "\n",
              "      const buffers = [];\n",
              "      let downloaded = 0;\n",
              "\n",
              "      const channel = await google.colab.kernel.comms.open(id);\n",
              "      // Send a message to notify the kernel that we're ready.\n",
              "      channel.send({})\n",
              "\n",
              "      for await (const message of channel.messages) {\n",
              "        // Send a message to notify the kernel that we're ready.\n",
              "        channel.send({})\n",
              "        if (message.buffers) {\n",
              "          for (const buffer of message.buffers) {\n",
              "            buffers.push(buffer);\n",
              "            downloaded += buffer.byteLength;\n",
              "            progress.value = downloaded;\n",
              "          }\n",
              "        }\n",
              "      }\n",
              "      const blob = new Blob(buffers, {type: 'application/binary'});\n",
              "      const a = document.createElement('a');\n",
              "      a.href = window.URL.createObjectURL(blob);\n",
              "      a.download = filename;\n",
              "      div.appendChild(a);\n",
              "      a.click();\n",
              "      div.remove();\n",
              "    }\n",
              "  "
            ]
          },
          "metadata": {}
        },
        {
          "output_type": "display_data",
          "data": {
            "text/plain": [
              "<IPython.core.display.Javascript object>"
            ],
            "application/javascript": [
              "download(\"download_ac4bef38-e506-46a5-ae86-a1accb1c5175\", \"cleaned_reviews.csv\", 21487470)"
            ]
          },
          "metadata": {}
        }
      ]
    },
    {
      "cell_type": "code",
      "source": [
        "import pandas as pd\n",
        "\n",
        "# Step 1: Read the large CSV file into a Pandas DataFrame\n",
        "df = pd.read_csv('cleaned_reviews.csv')\n",
        "\n",
        "# Step 2: Determine the number of rows per split\n",
        "num_splits = 5\n",
        "rows_per_split = len(df) // num_splits\n",
        "\n",
        "# Step 3 and 4: Loop over the range of splits, create DataFrames for each part, and write to separate CSV files\n",
        "for i in range(num_splits):\n",
        "    start_row = i * rows_per_split\n",
        "    if i == num_splits - 1:  # for the last split, include all remaining rows\n",
        "        end_row = len(df)\n",
        "    else:\n",
        "        end_row = (i + 1) * rows_per_split\n",
        "    split_df = df.iloc[start_row:end_row]\n",
        "\n",
        "    # Write the split DataFrame into a new CSV file\n",
        "    split_df.to_csv(f'cleaned_reviews_part_{i+1}.csv', index=False)"
      ],
      "metadata": {
        "id": "1-mdS-LnM7E-"
      },
      "execution_count": null,
      "outputs": []
    }
  ]
}